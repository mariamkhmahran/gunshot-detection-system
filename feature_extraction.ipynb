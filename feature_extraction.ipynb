{
 "cells": [
  {
   "cell_type": "markdown",
   "metadata": {},
   "source": [
    "# Gun Detection System for Urban Settings (_Feature extraction_)"
   ]
  },
  {
   "cell_type": "markdown",
   "metadata": {},
   "source": [
    "This notebook details the feature extraction techniques applied on the processed sound files. "
   ]
  },
  {
   "cell_type": "code",
   "execution_count": null,
   "metadata": {},
   "outputs": [],
   "source": [
    "import librosa\n",
    "import numpy as np\n",
    "from numpy import nan\n",
    "import pandas as pd\n",
    "import matplotlib\n",
    "from matplotlib import pyplot as plt\n",
    "import seaborn as sns\n",
    "import math\n",
    "from PIL import Image\n",
    "import os\n",
    "\n",
    "import warnings\n",
    "warnings.filterwarnings('ignore')\n",
    "matplotlib.use(\"Agg\")\n",
    "%matplotlib inline"
   ]
  },
  {
   "cell_type": "markdown",
   "metadata": {},
   "source": [
    "First, some constant values are set to be used across the entire notebook"
   ]
  },
  {
   "cell_type": "code",
   "execution_count": null,
   "metadata": {},
   "outputs": [],
   "source": [
    "IMG_DIR = \"./mel-specs\"\n",
    "VAL_DIR = \"./mel-specs-val\"\n",
    "TEST_DIR = \"./mel-specs-test\"\n",
    "\n",
    "SAMPLE_RATE = 22050 # Justification for this value is provided later"
   ]
  },
  {
   "cell_type": "markdown",
   "metadata": {},
   "source": [
    "### II.IV Feature Extraction"
   ]
  },
  {
   "cell_type": "markdown",
   "metadata": {},
   "source": [
    "The splitted sets are first loaded into numpy array to prepare for extraction."
   ]
  },
  {
   "cell_type": "markdown",
   "metadata": {},
   "source": [
    "**_Loading data sets_**"
   ]
  },
  {
   "cell_type": "code",
   "execution_count": null,
   "metadata": {},
   "outputs": [],
   "source": [
    "def load_x_and_y_helper(path):\n",
    "    x = []\n",
    "    y = []\n",
    "    \n",
    "    files = librosa.util.find_files(path, ext=['wav'])\n",
    "    files = np.asarray(files)\n",
    "    for file in files:\n",
    "        if '.wav' in file:\n",
    "            name = file.split('/').pop()\n",
    "            label = name.split('.')[0].split('-')[1];\n",
    "            wave_arr, sr = librosa.load(file, sr = SAMPLE_RATE, mono = True)\n",
    "            x = x + [wave_arr]\n",
    "            y = y + [label]\n",
    "    print('done!')\n",
    "    return np.array(x), np.array(y, dtype=int)\n",
    "\n",
    "\n",
    "def load_x_and_ys():\n",
    "    print('collecting training set...', end = \"\")\n",
    "    X_train, y_train = load_x_and_y_helper('./processed_data/train')\n",
    "    print('collecting validation set...', end = \"\")\n",
    "    X_val, y_val = load_x_and_y_helper('./processed_data/val')\n",
    "    print('collecting test set...', end = \"\")\n",
    "    X_test, y_test = load_x_and_y_helper('./processed_data/test')\n",
    "    \n",
    "    return X_train, y_train, X_val, y_val, X_test, y_test"
   ]
  },
  {
   "cell_type": "code",
   "execution_count": null,
   "metadata": {},
   "outputs": [
    {
     "name": "stdout",
     "output_type": "stream",
     "text": [
      "collecting training set...done!\n",
      "collecting validation set...done!\n",
      "collecting test set...done!\n"
     ]
    }
   ],
   "source": [
    "X_train, y_train, X_val, y_val, X_test, y_test = load_x_and_ys()"
   ]
  },
  {
   "cell_type": "markdown",
   "metadata": {},
   "source": [
    "*PS: the y vactor now contains the ID of classes \\[0-9\\] instead of the categorical names*"
   ]
  },
  {
   "cell_type": "code",
   "execution_count": null,
   "metadata": {},
   "outputs": [
    {
     "data": {
      "text/plain": [
       "((7000, 44100), (7000,))"
      ]
     },
     "metadata": {},
     "output_type": "display_data"
    }
   ],
   "source": [
    "X_train.shape, y_train.shape"
   ]
  },
  {
   "cell_type": "markdown",
   "metadata": {},
   "source": [
    "For this project, two approaches will be implemented for comparison, **Mel-spectrogram classification** and **multi-feature stacking**.<br/>\n",
    "First, all audio arrays will be converted to Mel-spectrograms in preparation for the first approach. <br/>\n",
    "Then, relevant 1D feature vectors will be extracted from the same original sets and stacked in preparation for the second approach."
   ]
  },
  {
   "cell_type": "markdown",
   "metadata": {},
   "source": [
    "**_Mel-spectrogram images_**"
   ]
  },
  {
   "cell_type": "markdown",
   "metadata": {},
   "source": [
    "Using librosa, all audio slices will be converted into 2D mel-spectrogram matrix. The matrix will then be saved in the form of a heatmap-like image. The construction of those images takes a very long time so the resulted images will be saved to disk to be loaded later when the training phase starts. This will allow for more experimentation in the training phase without the need to recompute the images each time."
   ]
  },
  {
   "cell_type": "markdown",
   "metadata": {},
   "source": [
    "When the resulting mel-spectrogram is images is saved, it is saved as a diagram with x-axis and y-axis, as well as an extra empty white border frame (see example below). All audios have the same length and sample rate so they all share the same scale of the x-axis and y-axis. Thus, the axes, labels, and border are redundant and may cause confusion for the CNN model, leading it to learn irrelevant features and lower the training quality. For these reasons, after saving the spectrogram images, the `resize_images` function is called to loop through the output images and crop the unecessary data, leaving only the spectrogram heatmap in the picture.  "
   ]
  },
  {
   "cell_type": "code",
   "execution_count": null,
   "metadata": {},
   "outputs": [],
   "source": [
    "def resize_images(base_path=IMG_DIR):\n",
    "    subfolders = [f.path for f in os.scandir(base_path) if f.is_dir()]\n",
    "    images = []\n",
    "    \n",
    "    for fold_path in subfolders:\n",
    "        for file in os.listdir(fold_path):\n",
    "            if '.png' in file:\n",
    "                path = \"{}/{}\".format(fold_path, file)\n",
    "                im = Image.open(path)\n",
    "                width, height = im.size\n",
    "\n",
    "                left = 81\n",
    "                top = 59\n",
    "                right = width - 64\n",
    "                bottom = height - 53\n",
    "\n",
    "                im1 = im.crop((left, top, right, bottom))\n",
    "                im1.save(path)\n",
    "                images += [im1]\n",
    "                \n",
    "                im.close()\n",
    "    return images\n",
    "\n",
    "def convert_to_mel_specs(X, y, base_path=IMG_DIR, show_example=False):\n",
    "    if not os.path.exists(base_path):\n",
    "        os.mkdir(base_path)\n",
    "        \n",
    "    for label in label_map.keys():\n",
    "        sub_fold = \"{}/{}\".format(base_path, label)\n",
    "        if not os.path.exists(sub_fold):\n",
    "            os.mkdir(sub_fold)\n",
    "\n",
    "    X_mel_specs = []\n",
    "    for idx, wav in enumerate(X):\n",
    "        spec = librosa.feature.melspectrogram(y=wav.astype(float), sr=SAMPLE_RATE)\n",
    "        X_mel_specs = X_mel_specs + [spec]\n",
    "        \n",
    "        fig = plt.Figure()\n",
    "        ax = fig.add_subplot(111)\n",
    "        p = librosa.display.specshow(librosa.amplitude_to_db(spec, ref=np.max), ax=ax, y_axis='log', x_axis='time')\n",
    "        fig.savefig(\"{}/{}/{}-{}.png\".format(base_path, get_class_name(int(y[idx])), idx, y[idx]))\n",
    "\n",
    "    ims = resize_images(base_path)\n",
    "    \n",
    "    return X_mel_specs, ims"
   ]
  },
  {
   "cell_type": "code",
   "execution_count": null,
   "metadata": {},
   "outputs": [],
   "source": [
    "X_specs_train, images = convert_to_mel_specs(X_train, y_train)"
   ]
  },
  {
   "cell_type": "code",
   "execution_count": null,
   "metadata": {},
   "outputs": [
    {
     "name": "stdout",
     "output_type": "stream",
     "text": [
      "Original photo of the mel-spectrogram:\n"
     ]
    },
    {
     "data": {
      "image/png": "[encoded data removed]",
      "text/plain": [
       "<Figure size 640x480 with 1 Axes>"
      ]
     },
     "metadata": {},
     "output_type": "display_data"
    },
    {
     "name": "stdout",
     "output_type": "stream",
     "text": [
      "The final cropped image:\n"
     ]
    },
    {
     "data": {
      "image/png": "[encoded data removed]",
      "text/plain": [
       "<PIL.Image.Image image mode=RGBA size=495x368>"
      ]
     },
     "metadata": {},
     "output_type": "display_data"
    }
   ],
   "source": [
    "print('Original photo of the mel-spectrogram:')\n",
    "p = librosa.display.specshow(X_specs_train[0], sr=SAMPLE_RATE, x_axis='time', y_axis='log');\n",
    "plt.show()\n",
    "print('The final cropped image:')\n",
    "images[0]"
   ]
  },
  {
   "cell_type": "markdown",
   "metadata": {},
   "source": [
    "*PS: Those two images are not of the same sound wave as PIL Image shuffles the order of the original set of images.*"
   ]
  },
  {
   "cell_type": "code",
   "execution_count": null,
   "metadata": {},
   "outputs": [],
   "source": [
    "X_specs_val = convert_to_mel_specs(X_val, y_val, VAL_DIR)"
   ]
  },
  {
   "cell_type": "code",
   "execution_count": null,
   "metadata": {},
   "outputs": [],
   "source": [
    "X_specs_test = convert_to_mel_specs(X_test, y_test, TEST_DIR)"
   ]
  },
  {
   "cell_type": "code",
   "execution_count": null,
   "metadata": {},
   "outputs": [
    {
     "data": {
      "text/plain": [
       "(7000, 128, 87)"
      ]
     },
     "metadata": {},
     "output_type": "display_data"
    }
   ],
   "source": [
    "org_shape = np.array(X_specs_train).shape\n",
    "org_shape"
   ]
  },
  {
   "cell_type": "markdown",
   "metadata": {},
   "source": [
    "The raw specs array is saved in csv file for future use"
   ]
  },
  {
   "cell_type": "code",
   "execution_count": null,
   "metadata": {},
   "outputs": [],
   "source": [
    "def save_specs_arr(arr, name):\n",
    "    np.savetxt(\"./processed_data/{}.txt\".format(name), np.array(arr).reshape(len(arr), -1))\n",
    "    \n",
    "def load_specs_arr(name):\n",
    "    arr = np.loadtxt(\"./processed_data/{}.txt\".format(name))\n",
    "    arr = arr.reshape(arr.shape[0], arr.shape[1] // org_shape[2], org_shape[2])\n",
    "    return arr"
   ]
  },
  {
   "cell_type": "code",
   "execution_count": null,
   "metadata": {},
   "outputs": [],
   "source": [
    "save_specs_arr(X_specs_train, 'training_mel_specs')\n",
    "save_specs_arr(X_specs_val, 'val_mel_specs')\n",
    "save_specs_arr(X_specs_test, 'test_mel_specs')"
   ]
  },
  {
   "cell_type": "markdown",
   "metadata": {},
   "source": [
    "**_1D stacked vectors_**"
   ]
  },
  {
   "cell_type": "markdown",
   "metadata": {},
   "source": [
    "For the second approach, a 1D vector is extracted from each audio clip representing this audio. This vector is the result of stacking different features describing the same audio wave. Five features will be computed from each audio: Mel-spectrogram, MFCCs, spectral contrast feature, chromagram and tonnetz. Each of these features will be then converted from a 2D matrix to a 1D array by taking the mean across the vertical axis. According to a study in [[1]](https://www.researchgate.net/publication/365912955_Multi-feature_stacking_order_impact_on_speech_emotion_recognition_performance), the orders in which these features are stacked is significantly impactful on the final result. Therefore, following their recommended order, the features are horizontally stacked in the following order: spectral contrast, tonnetz, chromagram, Mel-spectrogram, and MFCC. The resulting vectors are then inputted into the classifier."
   ]
  },
  {
   "cell_type": "code",
   "execution_count": null,
   "metadata": {},
   "outputs": [],
   "source": [
    "def extract_stacked_feats(X):\n",
    "    mfccs = librosa.feature.mfcc(y=X, sr=SAMPLE_RATE, n_mfcc=40)\n",
    "    _1D_mfcc = np.mean(mfccs.T, axis=0)\n",
    "    \n",
    "    chromagram = librosa.feature.chroma_stft(y=X, sr=SAMPLE_RATE)\n",
    "    _1D_chroma = np.mean(chromagram.T, axis=0)\n",
    "\n",
    "    mel_spec = librosa.feature.melspectrogram(y=X, sr=SAMPLE_RATE)\n",
    "    _1D_mel = np.mean(mel_spec.T, axis=0)\n",
    "\n",
    "    contrast = librosa.feature.spectral_contrast(y=X, sr=SAMPLE_RATE)\n",
    "    _1D_contrast = np.mean(contrast.T, axis=0)\n",
    "\n",
    "    harmonic = librosa.effects.harmonic(X)\n",
    "    tonnetz = librosa.feature.tonnetz(y=harmonic, sr=SAMPLE_RATE)\n",
    "    _1D_tonnetz = np.mean(tonnetz.T,axis=0)\n",
    "    \n",
    "    \n",
    "    return np.hstack([_1D_contrast, _1D_tonnetz, _1D_chroma, _1D_mel, _1D_mfcc])\n",
    "\n",
    "def extract_stacked_feature_arrays(X):\n",
    "    data = [];\n",
    "    \n",
    "    print('extracting', end=\"\")\n",
    "    progress = 0;\n",
    "    for idx in range(len(X)):\n",
    "        if(idx == int(progress * len(X))):\n",
    "            print('.', end=\"\")\n",
    "            progress += 0.1\n",
    "            \n",
    "        stack = extract_stacked_feats(X[idx])\n",
    "        data = data + [stack]\n",
    "    print('done!')\n",
    "    \n",
    "    return np.array(data)"
   ]
  },
  {
   "cell_type": "code",
   "execution_count": null,
   "metadata": {},
   "outputs": [
    {
     "name": "stdout",
     "output_type": "stream",
     "text": [
      "Training set: extracting...........done!\n",
      "Validation set: extracting...........done!\n",
      "Test set: extracting...........done!\n"
     ]
    },
    {
     "data": {
      "text/plain": [
       "(7000, 193)"
      ]
     },
     "metadata": {},
     "output_type": "display_data"
    }
   ],
   "source": [
    "print('Training set: ', end='')\n",
    "X_stack_train = extract_stacked_feature_arrays(X_train)\n",
    "print('Validation set: ', end='')\n",
    "X_stack_val = extract_stacked_feature_arrays(X_val)\n",
    "print('Test set: ', end='')\n",
    "X_stack_test = extract_stacked_feature_arrays(X_test)\n",
    "\n",
    "X_stack_train.shape"
   ]
  },
  {
   "cell_type": "markdown",
   "metadata": {},
   "source": [
    "The 1D feature vectors are saved in csv format for future use."
   ]
  },
  {
   "cell_type": "code",
   "execution_count": null,
   "metadata": {},
   "outputs": [],
   "source": [
    "def export_stacked_feature_arrays(X, y, split='train'):\n",
    "    path = './processed_data/stacked_features'\n",
    "    if not os.path.exists(path):\n",
    "        os.mkdir(path)\n",
    "    \n",
    "    print('exporting {} set...'.format(split), end=' ')\n",
    "    np.savetxt(\"{}/X_{}.csv\".format(path, split), X, delimiter=\",\")\n",
    "    y.tofile('{}/y_{}.csv'.format(path, split), sep = ',')\n",
    "    print('done!')"
   ]
  },
  {
   "cell_type": "code",
   "execution_count": null,
   "metadata": {},
   "outputs": [
    {
     "name": "stdout",
     "output_type": "stream",
     "text": [
      "exporting train set... done!\n",
      "exporting val set... done!\n",
      "exporting test set... done!\n"
     ]
    }
   ],
   "source": [
    "export_stacked_feature_arrays(X_stack_train, y_train)\n",
    "export_stacked_feature_arrays(X_stack_val, y_val, split='val')\n",
    "export_stacked_feature_arrays(X_stack_test, y_test, split='test')"
   ]
  }
 ],
 "metadata": {
  "language_info": {
   "name": "python"
  },
  "orig_nbformat": 4
 },
 "nbformat": 4,
 "nbformat_minor": 2
}
