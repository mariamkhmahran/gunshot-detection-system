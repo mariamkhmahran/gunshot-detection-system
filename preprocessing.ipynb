{
 "cells": [
  {
   "cell_type": "markdown",
   "metadata": {},
   "source": [
    "# Gun Detection System for Urban Settings (_Data cleaning, pre processing and augmentation_)"
   ]
  },
  {
   "cell_type": "markdown",
   "metadata": {},
   "source": [
    "This notebook contains the description and the pre-processing details of the dataset used in the implemetation of th **gun detection system** for the detection of gunshots sounds in urban settings.  "
   ]
  },
  {
   "cell_type": "code",
   "execution_count": null,
   "metadata": {},
   "outputs": [],
   "source": [
    "import librosa\n",
    "import numpy as np\n",
    "from numpy import nan\n",
    "import pandas as pd\n",
    "import matplotlib\n",
    "from matplotlib import pyplot as plt\n",
    "import seaborn as sns\n",
    "import math\n",
    "from PIL import Image\n",
    "import os\n",
    "\n",
    "import warnings\n",
    "warnings.filterwarnings('ignore')\n",
    "matplotlib.use(\"Agg\")\n",
    "%matplotlib inline"
   ]
  },
  {
   "cell_type": "markdown",
   "metadata": {},
   "source": [
    "First, some constant values are set to be used across the entire notebook"
   ]
  },
  {
   "cell_type": "code",
   "execution_count": null,
   "metadata": {},
   "outputs": [],
   "source": [
    "IMG_DIR = \"./mel-specs\"\n",
    "VAL_DIR = \"./mel-specs-val\"\n",
    "TEST_DIR = \"./mel-specs-test\"\n",
    "\n",
    "SAMPLE_RATE = 22050 # Justification for this value is provided later"
   ]
  },
  {
   "cell_type": "markdown",
   "metadata": {},
   "source": [
    "## I. Explanatory data analysis"
   ]
  },
  {
   "cell_type": "markdown",
   "metadata": {},
   "source": [
    "The dataset consists of 8732 labelled sound files, each with a length of less than or equal to 4 seconds. The sound files represent urban sounds from different scenarios. The sounds are classified into ten different classes: air conditioner, car horn, children playing, dog barking, drilling, idle engine, gunshot, jackhammer, siren, and street music. The audio dataset comprises audio files that are extracted from longer audio recordings, containing only the relevant sounds of the intended action and without additional silence or unnecessary noise.\n",
    "\n",
    "\n",
    "For the current task, only one class is relevant out of the ten classes, the gunshot class. Detecting a gunshot sound is relevant to gunshot detection systems. By identifying and isolating the gunshot class from the rest of the urban sounds, machine learning models can be trained to recognize the unique acoustic characteristics of a gunshot sound."
   ]
  },
  {
   "cell_type": "markdown",
   "metadata": {},
   "source": [
    "The csv file called `data-description.csv` contains a description of all audio files included in the dataset. To perform explanatory data analysis, the csv file is loaded into pandas DataFrame."
   ]
  },
  {
   "cell_type": "code",
   "execution_count": null,
   "metadata": {},
   "outputs": [
    {
     "data": {
      "text/plain": [
       "(8732, 8)"
      ]
     },
     "metadata": {},
     "output_type": "display_data"
    }
   ],
   "source": [
    "df = pd.read_csv('./data-description.csv')\n",
    "df.shape"
   ]
  },
  {
   "cell_type": "code",
   "execution_count": null,
   "metadata": {},
   "outputs": [],
   "source": [
    "label_map = {\n",
    "    'air_conditioner': 0,\n",
    "    'car_horn': 1,\n",
    "    'children_playing': 2,\n",
    "    'dog_bark': 3,\n",
    "    'drilling': 4,\n",
    "    'engine_idling': 5,\n",
    "    'gun_shot': 6,\n",
    "    'jackhammer': 7,\n",
    "    'siren': 8,\n",
    "    'street_music': 9,\n",
    "}\n",
    "\n",
    "def get_class_name(idx):\n",
    "    return list(label_map.keys())[list(label_map.values()).index(idx)]"
   ]
  },
  {
   "cell_type": "markdown",
   "metadata": {},
   "source": [
    "Each row in the dataframe named `df` represents the metadata for one audio file. For each audio file, the following details are included:\n",
    "- Name of the file.\n",
    "- The recording sound ID.\n",
    "- The start time of the slice in the original audio.\n",
    "- The end time of the slice in the original audio.\n",
    "- salience, an indicator for whether the sound slice is a foreground sound (1) or background sound (2).\n",
    "- ID of the class to which the sound slice belongs.\n",
    "- Name of the class to which the sound slice belongs."
   ]
  },
  {
   "cell_type": "code",
   "execution_count": null,
   "metadata": {},
   "outputs": [
    {
     "data": {
      "text/html": [
       "<div>\n",
       "<style scoped>\n",
       "    .dataframe tbody tr th:only-of-type {\n",
       "        vertical-align: middle;\n",
       "    }\n",
       "\n",
       "    .dataframe tbody tr th {\n",
       "        vertical-align: top;\n",
       "    }\n",
       "\n",
       "    .dataframe thead th {\n",
       "        text-align: right;\n",
       "    }\n",
       "</style>\n",
       "<table border=\"1\" class=\"dataframe\">\n",
       "  <thead>\n",
       "    <tr style=\"text-align: right;\">\n",
       "      <th></th>\n",
       "      <th>slice_file_name</th>\n",
       "      <th>fsID</th>\n",
       "      <th>start</th>\n",
       "      <th>end</th>\n",
       "      <th>salience</th>\n",
       "      <th>fold</th>\n",
       "      <th>classID</th>\n",
       "      <th>class</th>\n",
       "    </tr>\n",
       "  </thead>\n",
       "  <tbody>\n",
       "    <tr>\n",
       "      <th>0</th>\n",
       "      <td>100032-3-0-0.wav</td>\n",
       "      <td>100032</td>\n",
       "      <td>0.0</td>\n",
       "      <td>0.317551</td>\n",
       "      <td>1</td>\n",
       "      <td>5</td>\n",
       "      <td>3</td>\n",
       "      <td>dog_bark</td>\n",
       "    </tr>\n",
       "    <tr>\n",
       "      <th>1</th>\n",
       "      <td>100263-2-0-117.wav</td>\n",
       "      <td>100263</td>\n",
       "      <td>58.5</td>\n",
       "      <td>62.500000</td>\n",
       "      <td>1</td>\n",
       "      <td>5</td>\n",
       "      <td>2</td>\n",
       "      <td>children_playing</td>\n",
       "    </tr>\n",
       "    <tr>\n",
       "      <th>2</th>\n",
       "      <td>100263-2-0-121.wav</td>\n",
       "      <td>100263</td>\n",
       "      <td>60.5</td>\n",
       "      <td>64.500000</td>\n",
       "      <td>1</td>\n",
       "      <td>5</td>\n",
       "      <td>2</td>\n",
       "      <td>children_playing</td>\n",
       "    </tr>\n",
       "    <tr>\n",
       "      <th>3</th>\n",
       "      <td>100263-2-0-126.wav</td>\n",
       "      <td>100263</td>\n",
       "      <td>63.0</td>\n",
       "      <td>67.000000</td>\n",
       "      <td>1</td>\n",
       "      <td>5</td>\n",
       "      <td>2</td>\n",
       "      <td>children_playing</td>\n",
       "    </tr>\n",
       "    <tr>\n",
       "      <th>4</th>\n",
       "      <td>100263-2-0-137.wav</td>\n",
       "      <td>100263</td>\n",
       "      <td>68.5</td>\n",
       "      <td>72.500000</td>\n",
       "      <td>1</td>\n",
       "      <td>5</td>\n",
       "      <td>2</td>\n",
       "      <td>children_playing</td>\n",
       "    </tr>\n",
       "  </tbody>\n",
       "</table>\n",
       "</div>"
      ],
      "text/plain": [
       "      slice_file_name    fsID  start        end  salience  fold  classID  \\\n",
       "0    100032-3-0-0.wav  100032    0.0   0.317551         1     5        3   \n",
       "1  100263-2-0-117.wav  100263   58.5  62.500000         1     5        2   \n",
       "2  100263-2-0-121.wav  100263   60.5  64.500000         1     5        2   \n",
       "3  100263-2-0-126.wav  100263   63.0  67.000000         1     5        2   \n",
       "4  100263-2-0-137.wav  100263   68.5  72.500000         1     5        2   \n",
       "\n",
       "              class  \n",
       "0          dog_bark  \n",
       "1  children_playing  \n",
       "2  children_playing  \n",
       "3  children_playing  \n",
       "4  children_playing  "
      ]
     },
     "metadata": {},
     "output_type": "display_data"
    }
   ],
   "source": [
    "df.head()"
   ]
  },
  {
   "cell_type": "markdown",
   "metadata": {},
   "source": [
    "To get better insight into the range of audio lengths included in the data, a new column will be added resresenting the length of the sound calculated by the subtracting the the start timestamp from the end."
   ]
  },
  {
   "cell_type": "code",
   "execution_count": null,
   "metadata": {},
   "outputs": [],
   "source": [
    "df['length'] = df['end'] - df['start']"
   ]
  },
  {
   "cell_type": "markdown",
   "metadata": {},
   "source": [
    "Furthermore, to get better insight into the range of different sample rates included in the data, a new column will be added resresenting the sample rate of the individual slice. <br/> <br/>\n",
    "To get the sample rate, librosa's `get_samplerate` function will be applied on each audio slice to extract the relevant rate. The sample rates will then be saved into a new column called `sample_rate`."
   ]
  },
  {
   "cell_type": "code",
   "execution_count": null,
   "metadata": {},
   "outputs": [],
   "source": [
    "sample_rate = np.zeros(df.shape[0])\n",
    "for index, row in df.iterrows():\n",
    "    sample_rate[index] = librosa.get_samplerate('./audio/fold' + str(row['fold']) + '/' + row['slice_file_name'])\n",
    "    \n",
    "df['sample_rate'] = sample_rate  "
   ]
  },
  {
   "cell_type": "code",
   "execution_count": null,
   "metadata": {},
   "outputs": [
    {
     "data": {
      "text/html": [
       "<div>\n",
       "<style scoped>\n",
       "    .dataframe tbody tr th:only-of-type {\n",
       "        vertical-align: middle;\n",
       "    }\n",
       "\n",
       "    .dataframe tbody tr th {\n",
       "        vertical-align: top;\n",
       "    }\n",
       "\n",
       "    .dataframe thead th {\n",
       "        text-align: right;\n",
       "    }\n",
       "</style>\n",
       "<table border=\"1\" class=\"dataframe\">\n",
       "  <thead>\n",
       "    <tr style=\"text-align: right;\">\n",
       "      <th></th>\n",
       "      <th>slice_file_name</th>\n",
       "      <th>fsID</th>\n",
       "      <th>start</th>\n",
       "      <th>end</th>\n",
       "      <th>salience</th>\n",
       "      <th>fold</th>\n",
       "      <th>classID</th>\n",
       "      <th>class</th>\n",
       "      <th>length</th>\n",
       "      <th>sample_rate</th>\n",
       "    </tr>\n",
       "  </thead>\n",
       "  <tbody>\n",
       "    <tr>\n",
       "      <th>0</th>\n",
       "      <td>100032-3-0-0.wav</td>\n",
       "      <td>100032</td>\n",
       "      <td>0.0</td>\n",
       "      <td>0.317551</td>\n",
       "      <td>1</td>\n",
       "      <td>5</td>\n",
       "      <td>3</td>\n",
       "      <td>dog_bark</td>\n",
       "      <td>0.317551</td>\n",
       "      <td>44100.0</td>\n",
       "    </tr>\n",
       "    <tr>\n",
       "      <th>1</th>\n",
       "      <td>100263-2-0-117.wav</td>\n",
       "      <td>100263</td>\n",
       "      <td>58.5</td>\n",
       "      <td>62.500000</td>\n",
       "      <td>1</td>\n",
       "      <td>5</td>\n",
       "      <td>2</td>\n",
       "      <td>children_playing</td>\n",
       "      <td>4.000000</td>\n",
       "      <td>44100.0</td>\n",
       "    </tr>\n",
       "    <tr>\n",
       "      <th>2</th>\n",
       "      <td>100263-2-0-121.wav</td>\n",
       "      <td>100263</td>\n",
       "      <td>60.5</td>\n",
       "      <td>64.500000</td>\n",
       "      <td>1</td>\n",
       "      <td>5</td>\n",
       "      <td>2</td>\n",
       "      <td>children_playing</td>\n",
       "      <td>4.000000</td>\n",
       "      <td>44100.0</td>\n",
       "    </tr>\n",
       "    <tr>\n",
       "      <th>3</th>\n",
       "      <td>100263-2-0-126.wav</td>\n",
       "      <td>100263</td>\n",
       "      <td>63.0</td>\n",
       "      <td>67.000000</td>\n",
       "      <td>1</td>\n",
       "      <td>5</td>\n",
       "      <td>2</td>\n",
       "      <td>children_playing</td>\n",
       "      <td>4.000000</td>\n",
       "      <td>44100.0</td>\n",
       "    </tr>\n",
       "    <tr>\n",
       "      <th>4</th>\n",
       "      <td>100263-2-0-137.wav</td>\n",
       "      <td>100263</td>\n",
       "      <td>68.5</td>\n",
       "      <td>72.500000</td>\n",
       "      <td>1</td>\n",
       "      <td>5</td>\n",
       "      <td>2</td>\n",
       "      <td>children_playing</td>\n",
       "      <td>4.000000</td>\n",
       "      <td>44100.0</td>\n",
       "    </tr>\n",
       "  </tbody>\n",
       "</table>\n",
       "</div>"
      ],
      "text/plain": [
       "      slice_file_name    fsID  start        end  salience  fold  classID  \\\n",
       "0    100032-3-0-0.wav  100032    0.0   0.317551         1     5        3   \n",
       "1  100263-2-0-117.wav  100263   58.5  62.500000         1     5        2   \n",
       "2  100263-2-0-121.wav  100263   60.5  64.500000         1     5        2   \n",
       "3  100263-2-0-126.wav  100263   63.0  67.000000         1     5        2   \n",
       "4  100263-2-0-137.wav  100263   68.5  72.500000         1     5        2   \n",
       "\n",
       "              class    length  sample_rate  \n",
       "0          dog_bark  0.317551      44100.0  \n",
       "1  children_playing  4.000000      44100.0  \n",
       "2  children_playing  4.000000      44100.0  \n",
       "3  children_playing  4.000000      44100.0  \n",
       "4  children_playing  4.000000      44100.0  "
      ]
     },
     "metadata": {},
     "output_type": "display_data"
    }
   ],
   "source": [
    "df.head()"
   ]
  },
  {
   "cell_type": "code",
   "execution_count": null,
   "metadata": {},
   "outputs": [
    {
     "data": {
      "text/html": [
       "<div>\n",
       "<style scoped>\n",
       "    .dataframe tbody tr th:only-of-type {\n",
       "        vertical-align: middle;\n",
       "    }\n",
       "\n",
       "    .dataframe tbody tr th {\n",
       "        vertical-align: top;\n",
       "    }\n",
       "\n",
       "    .dataframe thead th {\n",
       "        text-align: right;\n",
       "    }\n",
       "</style>\n",
       "<table border=\"1\" class=\"dataframe\">\n",
       "  <thead>\n",
       "    <tr style=\"text-align: right;\">\n",
       "      <th></th>\n",
       "      <th>fsID</th>\n",
       "      <th>start</th>\n",
       "      <th>end</th>\n",
       "      <th>salience</th>\n",
       "      <th>fold</th>\n",
       "      <th>classID</th>\n",
       "      <th>length</th>\n",
       "      <th>sample_rate</th>\n",
       "    </tr>\n",
       "  </thead>\n",
       "  <tbody>\n",
       "    <tr>\n",
       "      <th>count</th>\n",
       "      <td>8732.00</td>\n",
       "      <td>8732.00</td>\n",
       "      <td>8732.00</td>\n",
       "      <td>8732.00</td>\n",
       "      <td>8732.00</td>\n",
       "      <td>8732.00</td>\n",
       "      <td>8732.00</td>\n",
       "      <td>8732.00</td>\n",
       "    </tr>\n",
       "    <tr>\n",
       "      <th>mean</th>\n",
       "      <td>116033.49</td>\n",
       "      <td>38.65</td>\n",
       "      <td>42.25</td>\n",
       "      <td>1.35</td>\n",
       "      <td>5.39</td>\n",
       "      <td>4.59</td>\n",
       "      <td>3.61</td>\n",
       "      <td>48456.98</td>\n",
       "    </tr>\n",
       "    <tr>\n",
       "      <th>std</th>\n",
       "      <td>57991.02</td>\n",
       "      <td>74.29</td>\n",
       "      <td>74.37</td>\n",
       "      <td>0.48</td>\n",
       "      <td>2.85</td>\n",
       "      <td>2.89</td>\n",
       "      <td>0.97</td>\n",
       "      <td>15300.08</td>\n",
       "    </tr>\n",
       "    <tr>\n",
       "      <th>min</th>\n",
       "      <td>344.00</td>\n",
       "      <td>0.00</td>\n",
       "      <td>0.11</td>\n",
       "      <td>1.00</td>\n",
       "      <td>1.00</td>\n",
       "      <td>0.00</td>\n",
       "      <td>0.05</td>\n",
       "      <td>8000.00</td>\n",
       "    </tr>\n",
       "    <tr>\n",
       "      <th>25%</th>\n",
       "      <td>69942.25</td>\n",
       "      <td>3.00</td>\n",
       "      <td>6.84</td>\n",
       "      <td>1.00</td>\n",
       "      <td>3.00</td>\n",
       "      <td>2.00</td>\n",
       "      <td>4.00</td>\n",
       "      <td>44100.00</td>\n",
       "    </tr>\n",
       "    <tr>\n",
       "      <th>50%</th>\n",
       "      <td>118279.00</td>\n",
       "      <td>10.38</td>\n",
       "      <td>14.00</td>\n",
       "      <td>1.00</td>\n",
       "      <td>5.00</td>\n",
       "      <td>4.00</td>\n",
       "      <td>4.00</td>\n",
       "      <td>44100.00</td>\n",
       "    </tr>\n",
       "    <tr>\n",
       "      <th>75%</th>\n",
       "      <td>166942.00</td>\n",
       "      <td>35.13</td>\n",
       "      <td>38.87</td>\n",
       "      <td>2.00</td>\n",
       "      <td>8.00</td>\n",
       "      <td>7.00</td>\n",
       "      <td>4.00</td>\n",
       "      <td>48000.00</td>\n",
       "    </tr>\n",
       "    <tr>\n",
       "      <th>max</th>\n",
       "      <td>209992.00</td>\n",
       "      <td>600.13</td>\n",
       "      <td>604.13</td>\n",
       "      <td>2.00</td>\n",
       "      <td>10.00</td>\n",
       "      <td>9.00</td>\n",
       "      <td>4.00</td>\n",
       "      <td>192000.00</td>\n",
       "    </tr>\n",
       "  </tbody>\n",
       "</table>\n",
       "</div>"
      ],
      "text/plain": [
       "            fsID    start      end  salience     fold  classID   length  \\\n",
       "count    8732.00  8732.00  8732.00   8732.00  8732.00  8732.00  8732.00   \n",
       "mean   116033.49    38.65    42.25      1.35     5.39     4.59     3.61   \n",
       "std     57991.02    74.29    74.37      0.48     2.85     2.89     0.97   \n",
       "min       344.00     0.00     0.11      1.00     1.00     0.00     0.05   \n",
       "25%     69942.25     3.00     6.84      1.00     3.00     2.00     4.00   \n",
       "50%    118279.00    10.38    14.00      1.00     5.00     4.00     4.00   \n",
       "75%    166942.00    35.13    38.87      2.00     8.00     7.00     4.00   \n",
       "max    209992.00   600.13   604.13      2.00    10.00     9.00     4.00   \n",
       "\n",
       "       sample_rate  \n",
       "count      8732.00  \n",
       "mean      48456.98  \n",
       "std       15300.08  \n",
       "min        8000.00  \n",
       "25%       44100.00  \n",
       "50%       44100.00  \n",
       "75%       48000.00  \n",
       "max      192000.00  "
      ]
     },
     "metadata": {},
     "output_type": "display_data"
    }
   ],
   "source": [
    "df.describe().round(2)"
   ]
  },
  {
   "cell_type": "markdown",
   "metadata": {},
   "source": [
    "### File format"
   ]
  },
  {
   "cell_type": "markdown",
   "metadata": {},
   "source": [
    "All files are in the Waveform Audio File Format (.wav), eliminating the need for any format conversion. "
   ]
  },
  {
   "cell_type": "code",
   "execution_count": null,
   "metadata": {},
   "outputs": [
    {
     "data": {
      "text/plain": [
       "[]"
      ]
     },
     "metadata": {},
     "output_type": "display_data"
    }
   ],
   "source": [
    "[x for x in df['slice_file_name'] if '.wav' not in x]"
   ]
  },
  {
   "cell_type": "markdown",
   "metadata": {},
   "source": [
    "### Lengths variation"
   ]
  },
  {
   "cell_type": "markdown",
   "metadata": {},
   "source": [
    "As can be seen in the following table, different classes have different range of sound lengths. The shortest sound slice belongs to the `car_horn` with only 5 ms. All classes have a maximum lengths of 4 seconds."
   ]
  },
  {
   "cell_type": "markdown",
   "metadata": {},
   "source": [
    "The `gun_shot` class, the class of interest has a minimum lengths of 0.17 seconds with a mean of 1.65 seconds."
   ]
  },
  {
   "cell_type": "code",
   "execution_count": null,
   "metadata": {},
   "outputs": [
    {
     "data": {
      "text/html": [
       "<div>\n",
       "<style scoped>\n",
       "    .dataframe tbody tr th:only-of-type {\n",
       "        vertical-align: middle;\n",
       "    }\n",
       "\n",
       "    .dataframe tbody tr th {\n",
       "        vertical-align: top;\n",
       "    }\n",
       "\n",
       "    .dataframe thead th {\n",
       "        text-align: right;\n",
       "    }\n",
       "</style>\n",
       "<table border=\"1\" class=\"dataframe\">\n",
       "  <thead>\n",
       "    <tr style=\"text-align: right;\">\n",
       "      <th></th>\n",
       "      <th>Min</th>\n",
       "      <th>Max</th>\n",
       "      <th>Mean</th>\n",
       "    </tr>\n",
       "    <tr>\n",
       "      <th>class</th>\n",
       "      <th></th>\n",
       "      <th></th>\n",
       "      <th></th>\n",
       "    </tr>\n",
       "  </thead>\n",
       "  <tbody>\n",
       "    <tr>\n",
       "      <th>air_conditioner</th>\n",
       "      <td>2.04</td>\n",
       "      <td>4.0</td>\n",
       "      <td>3.99</td>\n",
       "    </tr>\n",
       "    <tr>\n",
       "      <th>car_horn</th>\n",
       "      <td>0.05</td>\n",
       "      <td>4.0</td>\n",
       "      <td>2.46</td>\n",
       "    </tr>\n",
       "    <tr>\n",
       "      <th>children_playing</th>\n",
       "      <td>1.05</td>\n",
       "      <td>4.0</td>\n",
       "      <td>3.96</td>\n",
       "    </tr>\n",
       "    <tr>\n",
       "      <th>dog_bark</th>\n",
       "      <td>0.12</td>\n",
       "      <td>4.0</td>\n",
       "      <td>3.15</td>\n",
       "    </tr>\n",
       "    <tr>\n",
       "      <th>drilling</th>\n",
       "      <td>0.42</td>\n",
       "      <td>4.0</td>\n",
       "      <td>3.55</td>\n",
       "    </tr>\n",
       "    <tr>\n",
       "      <th>engine_idling</th>\n",
       "      <td>0.77</td>\n",
       "      <td>4.0</td>\n",
       "      <td>3.94</td>\n",
       "    </tr>\n",
       "    <tr>\n",
       "      <th>gun_shot</th>\n",
       "      <td>0.17</td>\n",
       "      <td>4.0</td>\n",
       "      <td>1.65</td>\n",
       "    </tr>\n",
       "    <tr>\n",
       "      <th>jackhammer</th>\n",
       "      <td>0.39</td>\n",
       "      <td>4.0</td>\n",
       "      <td>3.61</td>\n",
       "    </tr>\n",
       "    <tr>\n",
       "      <th>siren</th>\n",
       "      <td>0.26</td>\n",
       "      <td>4.0</td>\n",
       "      <td>3.91</td>\n",
       "    </tr>\n",
       "    <tr>\n",
       "      <th>street_music</th>\n",
       "      <td>4.00</td>\n",
       "      <td>4.0</td>\n",
       "      <td>4.00</td>\n",
       "    </tr>\n",
       "  </tbody>\n",
       "</table>\n",
       "</div>"
      ],
      "text/plain": [
       "                   Min  Max  Mean\n",
       "class                            \n",
       "air_conditioner   2.04  4.0  3.99\n",
       "car_horn          0.05  4.0  2.46\n",
       "children_playing  1.05  4.0  3.96\n",
       "dog_bark          0.12  4.0  3.15\n",
       "drilling          0.42  4.0  3.55\n",
       "engine_idling     0.77  4.0  3.94\n",
       "gun_shot          0.17  4.0  1.65\n",
       "jackhammer        0.39  4.0  3.61\n",
       "siren             0.26  4.0  3.91\n",
       "street_music      4.00  4.0  4.00"
      ]
     },
     "metadata": {},
     "output_type": "display_data"
    }
   ],
   "source": [
    "length_min = df.groupby('class').min()['length'].round(2).rename('Min')\n",
    "length_max = df.groupby('class').max()['length'].rename('Max')\n",
    "length_mean = df.groupby('class').mean()['length'].round(2).rename('Mean')\n",
    "\n",
    "lengths = length_min.to_frame().join(length_max).join(length_mean)\n",
    "lengths"
   ]
  },
  {
   "cell_type": "code",
   "execution_count": null,
   "metadata": {},
   "outputs": [
    {
     "data": {
      "text/plain": [
       "'mean across all classes: 3.61'"
      ]
     },
     "metadata": {},
     "output_type": "display_data"
    }
   ],
   "source": [
    "'mean across all classes: {}'.format(round(np.mean(df['length']), 2))"
   ]
  },
  {
   "cell_type": "markdown",
   "metadata": {},
   "source": [
    "### Sample Rate variation"
   ]
  },
  {
   "cell_type": "markdown",
   "metadata": {},
   "source": [
    "As can be seen the following chart, audio clips differ in sample rate. The sample rates range from 32 kHz to 44.1 kHz. The majority of clips have a sample rate of more than or equal to 96 kHz."
   ]
  },
  {
   "cell_type": "code",
   "execution_count": null,
   "metadata": {},
   "outputs": [
    {
     "data": {
      "image/png": "[encoded data removed]",
      "text/plain": [
       "<Figure size 640x480 with 1 Axes>"
      ]
     },
     "metadata": {},
     "output_type": "display_data"
    }
   ],
   "source": [
    "df['sample_rate'].value_counts().plot.bar(x='sample_rate', y='count', rot=50);"
   ]
  },
  {
   "cell_type": "markdown",
   "metadata": {},
   "source": [
    "### Foreground vs. background"
   ]
  },
  {
   "cell_type": "markdown",
   "metadata": {},
   "source": [
    "Each class contains both foreground and background noises. Some classes (e.g. engine_idling and gun_shot) contain far more foreground noises than background. This adds variation to the classes to help introduce the machine learning classifer to different versions of the audio sounds imitating real life noises."
   ]
  },
  {
   "cell_type": "code",
   "execution_count": null,
   "metadata": {},
   "outputs": [
    {
     "data": {
      "text/plain": [
       "class             salience\n",
       "air_conditioner   1           569\n",
       "                  2           431\n",
       "car_horn          1           153\n",
       "                  2           276\n",
       "children_playing  1           588\n",
       "                  2           412\n",
       "dog_bark          1           645\n",
       "                  2           355\n",
       "drilling          1           902\n",
       "                  2            98\n",
       "engine_idling     1           916\n",
       "                  2            84\n",
       "gun_shot          1           304\n",
       "                  2            70\n",
       "jackhammer        1           731\n",
       "                  2           269\n",
       "siren             1           269\n",
       "                  2           660\n",
       "street_music      1           625\n",
       "                  2           375\n",
       "dtype: int64"
      ]
     },
     "metadata": {},
     "output_type": "display_data"
    }
   ],
   "source": [
    "df.groupby(['class', 'salience']).size()"
   ]
  },
  {
   "cell_type": "markdown",
   "metadata": {},
   "source": [
    "### Class distribution"
   ]
  },
  {
   "cell_type": "markdown",
   "metadata": {},
   "source": [
    "Based on the following chart, there is a huge class imbalance in the data. Eight out of the ten classes have an equal number of audio samples, with 1000 instances per class. However, the car horn, and gunshot classes are significantly underrepresented in the dataset. This poses a great challenge for the current task, particularly as the gunshot class is the class of interest. With only 4.3% of all samples, the gunshot class has the least number of instances. Resampling the dataset is necessary in this case."
   ]
  },
  {
   "cell_type": "code",
   "execution_count": null,
   "metadata": {},
   "outputs": [
    {
     "data": {
      "image/png": "[encoded data removed]",
      "text/plain": [
       "<Figure size 640x480 with 1 Axes>"
      ]
     },
     "metadata": {},
     "output_type": "display_data"
    }
   ],
   "source": [
    "def get_class_dist(df, label, plot=False):\n",
    "    count_per_class = {}\n",
    "    for index, row in df.iterrows():\n",
    "        y = row[label]\n",
    "        if(y not in count_per_class):\n",
    "            count_per_class[y] = 0\n",
    "        count_per_class[y] += 1\n",
    "    if plot:\n",
    "        colors = ['#8858Ca', '#D65DB6', '#FF6F91', '#FF9671', '#FFC75F', '#F9F871', '#0081CF', '#FBEAFF', '#00C9A7', '#b3bAf6' ]\n",
    "        plt.pie(list(count_per_class.values()), labels = list(count_per_class.keys()), colors=colors, autopct='%.0f%%')\n",
    "        plt.show()\n",
    "    \n",
    "    return count_per_class\n",
    "\n",
    "get_class_dist(df, 'class', True);"
   ]
  },
  {
   "cell_type": "markdown",
   "metadata": {},
   "source": [
    "## II. Data pre-processing"
   ]
  },
  {
   "cell_type": "markdown",
   "metadata": {},
   "source": [
    "In this section, the neccessary data pre-processing techniques are applied to prepare the data for training, validation and testing."
   ]
  },
  {
   "cell_type": "markdown",
   "metadata": {},
   "source": [
    "To make sure all sounds have the same sample rate, the sample rate for all loaded audio files will be set at 22.05 kHz. <br/>\n",
    "Despite most of the data having an original sample rate of 44.1 kHz, this value was chosen as it is considered a middle value between the smallest and the highest sample rates in this case. Oversampling very low rates to a very high rate value such as 44.1 kHz might distort the sound and lead to the loss of valuable features. On the other hand, undersampling high rates to a slightly smaller value will not hugely affect the quality. <br/> <br/>\n",
    "The Python library librosa will be used to load and process the audio files. One of the notable features of this library is its ability to automatically resample audio files during loading, which is highly advantageous for facilitating sample rate conversion. "
   ]
  },
  {
   "cell_type": "code",
   "execution_count": null,
   "metadata": {},
   "outputs": [
    {
     "data": {
      "text/plain": [
       "22050"
      ]
     },
     "metadata": {},
     "output_type": "display_data"
    }
   ],
   "source": [
    "SAMPLE_RATE"
   ]
  },
  {
   "cell_type": "markdown",
   "metadata": {},
   "source": [
    "The audio files are split into 10 folders. The following cell sets the path to each of those folders."
   ]
  },
  {
   "cell_type": "code",
   "execution_count": null,
   "metadata": {},
   "outputs": [],
   "source": [
    "AUDIO_DIR = './audio' # path to audio files directory\n",
    "folders = ['fold{}'.format(x) for x in range(1, 11)] # array of paths to each audio folder"
   ]
  },
  {
   "cell_type": "code",
   "execution_count": null,
   "metadata": {},
   "outputs": [],
   "source": [
    "slices = np.zeros(df.shape[0], dtype=object)\n",
    "slices[:] = np.nan # placeholder array for audio slices\n",
    "classes = np.array(df['class']) # list of audio classes"
   ]
  },
  {
   "cell_type": "markdown",
   "metadata": {},
   "source": [
    "### Loading the data"
   ]
  },
  {
   "cell_type": "code",
   "execution_count": null,
   "metadata": {},
   "outputs": [
    {
     "name": "stdout",
     "output_type": "stream",
     "text": [
      "collecting fold1...done!\n",
      "collecting fold2...done!\n",
      "collecting fold3...done!\n",
      "collecting fold4...done!\n",
      "collecting fold5...done!\n",
      "collecting fold6...done!\n",
      "collecting fold7...done!\n",
      "collecting fold8...done!\n",
      "collecting fold9...done!\n",
      "collecting fold10...done!\n"
     ]
    }
   ],
   "source": [
    "for fold in folders:\n",
    "    print('collecting {}...'.format(fold), end = \"\")\n",
    "    files = librosa.util.find_files('{}/{}'.format(AUDIO_DIR, fold), ext=['wav'])\n",
    "    files = np.asarray(files)\n",
    "    for file in files:\n",
    "        if '.wav' in file:\n",
    "            name = file.split('/').pop()\n",
    "            wave_arr, sr = librosa.load(file, sr = SAMPLE_RATE, mono = True)\n",
    "            idx = list(df.index[df['slice_file_name'] == name])[0]\n",
    "            slices[idx] = wave_arr.astype(object)\n",
    "    print(\"done!\")"
   ]
  },
  {
   "cell_type": "code",
   "execution_count": null,
   "metadata": {},
   "outputs": [
    {
     "name": "stdout",
     "output_type": "stream",
     "text": [
      "Slices array shape: (8732,)\n"
     ]
    },
    {
     "data": {
      "image/png": "[encoded data removed]",
      "text/plain": [
       "<Figure size 1200x400 with 3 Axes>"
      ]
     },
     "metadata": {},
     "output_type": "display_data"
    }
   ],
   "source": [
    "import random\n",
    "\n",
    "print('Slices array shape: {}'.format(slices.shape))\n",
    "\n",
    "fig, ax =  plt.subplots(nrows=1, ncols=3, sharex=True)\n",
    "fig.set_size_inches(12, 4)\n",
    "for i in range(3):\n",
    "    idx = random.randint(0, len(slices) - 1)\n",
    "    y = slices[idx]\n",
    "    librosa.display.waveshow(y.astype(float), sr=SAMPLE_RATE, ax=ax[i])\n",
    "    plt.axis('off')\n",
    "plt.show()"
   ]
  },
  {
   "cell_type": "markdown",
   "metadata": {},
   "source": [
    "### II.I Data cleaning"
   ]
  },
  {
   "cell_type": "markdown",
   "metadata": {},
   "source": [
    "In order to perform an accurate analysis of the audio dataset, it is important to ensure that each audio file contains sufficient information and features for the task at hand. To achieve this, any audio files that have a duration of fewer than 0.30 seconds will be removed from the dataset. This will eliminate extremely short audio files and ensure that the remaining files provide adequate information for analysis. "
   ]
  },
  {
   "cell_type": "code",
   "execution_count": null,
   "metadata": {},
   "outputs": [
    {
     "name": "stdout",
     "output_type": "stream",
     "text": [
      "67 instances removed\n"
     ]
    }
   ],
   "source": [
    "MIN_LEN = 0.30\n",
    "\n",
    "small_slices_idx = list(df.loc[df['length'] < MIN_LEN].index)\n",
    "for idx in small_slices_idx:\n",
    "    slices[idx] = np.nan\n",
    "    classes[idx] = np.nan\n",
    "    \n",
    "slices = slices[~pd.isnull(slices)]\n",
    "classes = classes[~pd.isnull(classes)]\n",
    "\n",
    "df_clean = df.loc[df['length'] >= MIN_LEN]\n",
    "\n",
    "print('{} instances removed'.format(df.shape[0] - df_clean.shape[0]))"
   ]
  },
  {
   "cell_type": "markdown",
   "metadata": {},
   "source": [
    "### II.II Audio Splitting"
   ]
  },
  {
   "cell_type": "markdown",
   "metadata": {},
   "source": [
    "Generally, it is advisable to split the formatted audio files into several **equal** brief segments with predetermined time intervals. For this project, a threshold value of 2 seconds is set for all clips. Two seconds is a suitable threshold as it is equal to half of the maximum lengths of all classes. It is also slightly higher than the mean length of the interest class (1.65 s) and less than the mean length across all classes (3.61 s)."
   ]
  },
  {
   "cell_type": "code",
   "execution_count": null,
   "metadata": {},
   "outputs": [],
   "source": [
    "goal_len = 2"
   ]
  },
  {
   "cell_type": "code",
   "execution_count": null,
   "metadata": {},
   "outputs": [
    {
     "data": {
      "text/plain": [
       "44100"
      ]
     },
     "metadata": {},
     "output_type": "display_data"
    }
   ],
   "source": [
    "length_of_wave_arr = round(goal_len * SAMPLE_RATE) # the length of the desired slices segments arrays\n",
    "length_of_wave_arr"
   ]
  },
  {
   "cell_type": "markdown",
   "metadata": {},
   "source": [
    "The following function splits audio slices using the following algorithm:\n",
    "1. If the slice is 2 seconds long, keep it as it is.\n",
    "2. If the slice is less than 2 seconds long, pad with silence.\n",
    "3. If slice is longer, the audio is split into two segments; the first segment is 2 seconds long, and the second segment is the remainder of the clip.\n",
    "4. If the second segment is shorter than 0.30 seconds, it will be discarded.\n",
    "5. If the second segment is larger than or equal to 2 seconds: <br/>\n",
    "    5.1. If it belongs to either the gun_shot or the car_horn class, the new seqment will be added to the queue and will then undergo the same process from step 1. This will add more instances to the two under-represented classes. <br/>\n",
    "    5.2. If it belongs to any of the other eight classes, the segment is discarded. This is done to avoid adding more instances to the larger classes, further increasing the gap in the class imbalance."
   ]
  },
  {
   "cell_type": "code",
   "execution_count": null,
   "metadata": {},
   "outputs": [],
   "source": [
    "def split_audio_slices(slices, classes, split_length=length_of_wave_arr):\n",
    "    X = slices.copy()\n",
    "    y = classes.copy()\n",
    "    \n",
    "    idx = 0\n",
    "    while idx < X.shape[0]:\n",
    "        _slice = X[idx]\n",
    "        _class = y[idx]\n",
    "        \n",
    "        if(_slice.shape[0] == split_length): # If it is already 2 seconds long, skip.\n",
    "            idx += 1\n",
    "            continue\n",
    "            \n",
    "        elif(_slice.shape[0] < split_length):  # If it is less than 2 seconds long\n",
    "            diff = split_length - _slice.shape[0]\n",
    "            silence = np.zeros(split_length) # silence\n",
    "            lead = silence[0 : math.ceil(diff / 2)]\n",
    "            trail = silence[0 : math.floor(diff / 2)]\n",
    "            \n",
    "            X[idx] = np.concatenate((lead, _slice, trail)) # pad with silence\n",
    "        \n",
    "        else:\n",
    "            # split into two segments\n",
    "            seg1 = _slice[:length_of_wave_arr]\n",
    "            seg2 = _slice[length_of_wave_arr:]\n",
    "            \n",
    "            X[idx] = seg1\n",
    "            \n",
    "            # If it is longer than 2 s and belongs to the small classes\n",
    "            # add to the queue to undergo another split/silence padding\n",
    "            if(seg2.shape[0] >= MIN_LEN and (_class == 'gun_shot' or _class == 'car_horn')):\n",
    "                X = np.array(list(X) + list(np.array([seg2])), dtype=object )\n",
    "                y = np.append(y, _class)\n",
    "                \n",
    "        idx += 1\n",
    "        \n",
    "    return X, y"
   ]
  },
  {
   "cell_type": "code",
   "execution_count": null,
   "metadata": {},
   "outputs": [],
   "source": [
    "X, y = split_audio_slices(slices, classes)"
   ]
  },
  {
   "cell_type": "markdown",
   "metadata": {},
   "source": [
    "After splitting the large audio slices of the small classes and adding them back to the queue, it is noticed that the dataset size was increased."
   ]
  },
  {
   "cell_type": "code",
   "execution_count": null,
   "metadata": {},
   "outputs": [
    {
     "data": {
      "text/plain": [
       "((9014,), (9014,), 9014)"
      ]
     },
     "metadata": {},
     "output_type": "display_data"
    }
   ],
   "source": [
    "X.shape, y.shape, len([x for x in list(X) if len(x) == length_of_wave_arr])"
   ]
  },
  {
   "cell_type": "markdown",
   "metadata": {},
   "source": [
    "The gun_shot class instances were increased by 1% while the car_horn class was increased by 2%."
   ]
  },
  {
   "cell_type": "code",
   "execution_count": null,
   "metadata": {},
   "outputs": [
    {
     "data": {
      "image/png": "[encoded data removed]",
      "text/plain": [
       "<Figure size 640x480 with 1 Axes>"
      ]
     },
     "metadata": {},
     "output_type": "display_data"
    }
   ],
   "source": [
    "counts_per_class = get_class_dist(pd.DataFrame(y, columns=['class']), 'class', True);"
   ]
  },
  {
   "cell_type": "markdown",
   "metadata": {},
   "source": [
    "### II.III Data splitting"
   ]
  },
  {
   "cell_type": "markdown",
   "metadata": {},
   "source": [
    "Before further processing, the data is split to avoid data leakage. The data is split into 80%, 10% and 10% for training, validation and testing, respectively."
   ]
  },
  {
   "cell_type": "code",
   "execution_count": null,
   "metadata": {},
   "outputs": [],
   "source": [
    "from sklearn.model_selection import train_test_split\n",
    "\n",
    "_X, X_test, _y, y_test = train_test_split(X, y, test_size=0.10, random_state=101)\n",
    "X_train, X_val, y_train, y_val = train_test_split(_X, _y, test_size=0.10, random_state=101)"
   ]
  },
  {
   "cell_type": "markdown",
   "metadata": {},
   "source": [
    "### II.IV Data augmentation"
   ]
  },
  {
   "cell_type": "code",
   "execution_count": null,
   "metadata": {},
   "outputs": [
    {
     "data": {
      "text/plain": [
       "{'jackhammer': 816,\n",
       " 'siren': 750,\n",
       " 'gun_shot': 388,\n",
       " 'dog_bark': 798,\n",
       " 'car_horn': 497,\n",
       " 'drilling': 812,\n",
       " 'engine_idling': 818,\n",
       " 'air_conditioner': 822,\n",
       " 'street_music': 792,\n",
       " 'children_playing': 807}"
      ]
     },
     "metadata": {},
     "output_type": "display_data"
    }
   ],
   "source": [
    "get_class_dist(pd.DataFrame(y_train, columns=['class']), 'class') "
   ]
  },
  {
   "cell_type": "markdown",
   "metadata": {},
   "source": [
    "Even with the slight increase with data splitting, the gun_shot and car_horn classes still contain the least ammount of instances"
   ]
  },
  {
   "cell_type": "markdown",
   "metadata": {},
   "source": [
    "To decrease the class imbalance, and to further increase the count of the smaller classes, data augmentation techniques will be applied to the smaller classes. <br/>\n",
    "Two data augmentation methods are applied, noise induction and time shifting. Each class is capped at 700 instances."
   ]
  },
  {
   "cell_type": "code",
   "execution_count": null,
   "metadata": {},
   "outputs": [],
   "source": [
    "MIN_CLASS_COUNT = 700"
   ]
  },
  {
   "cell_type": "code",
   "execution_count": null,
   "metadata": {},
   "outputs": [],
   "source": [
    "import random\n",
    "import time\n",
    "\n",
    "def augment_class(data, labels, name, n_instances):\n",
    "    '''augments n_instances of the given class name'''\n",
    "    print('Augmenting for {}...'.format(name), end='')\n",
    "    shift_aug = math.ceil(n_instances / 2) # 50% will undergo time shift augmentation\n",
    "    noise_aug = math.floor(n_instances / 2) # the other 50% will undergo noise induction augmentation\n",
    "    \n",
    "    new_data = []\n",
    "    count = 0 # counts the number of newly added instances\n",
    "    idx = 0\n",
    "    while count < n_instances and idx < len(data):\n",
    "        if labels[idx] == name:\n",
    "            _slice = data.iloc[idx][0]\n",
    "            if count < shift_aug:\n",
    "                shift = int((random.randint(5, 20)/100) * len(_slice))\n",
    "                new_slice = np.roll(_slice, shift)\n",
    "            else:\n",
    "                new_slice = _slice + 0.01 * np.random.normal(0,1,len(_slice))\n",
    "                \n",
    "            data.loc[len(data)] = [new_slice]\n",
    "            labels = np.append(labels, name)\n",
    "            count += 1\n",
    "            \n",
    "        idx += 1\n",
    "        if(idx == len(data) and count < n_instances):\n",
    "            idx = 0\n",
    "            \n",
    "    print('done!')\n",
    "    return  data, labels"
   ]
  },
  {
   "cell_type": "code",
   "execution_count": null,
   "metadata": {},
   "outputs": [
    {
     "name": "stdout",
     "output_type": "stream",
     "text": [
      "Augmenting for gun_shot...done!\n",
      "Augmenting for car_horn...done!\n"
     ]
    }
   ],
   "source": [
    "class_counts = list(get_class_dist(pd.DataFrame(y_train, columns=['class']), 'class').items())\n",
    "\n",
    "for _class in class_counts:\n",
    "    name, count = _class\n",
    "    if count < MIN_CLASS_COUNT:\n",
    "        X_train, y_train = augment_class(pd.DataFrame(X_train), y_train, name, MIN_CLASS_COUNT - count)"
   ]
  },
  {
   "cell_type": "code",
   "execution_count": null,
   "metadata": {},
   "outputs": [
    {
     "data": {
      "text/plain": [
       "[('jackhammer', 816),\n",
       " ('siren', 750),\n",
       " ('gun_shot', 700),\n",
       " ('dog_bark', 798),\n",
       " ('car_horn', 700),\n",
       " ('drilling', 812),\n",
       " ('engine_idling', 818),\n",
       " ('air_conditioner', 822),\n",
       " ('street_music', 792),\n",
       " ('children_playing', 807)]"
      ]
     },
     "metadata": {},
     "output_type": "display_data"
    }
   ],
   "source": [
    "class_counts = list(get_class_dist(pd.DataFrame(y_train, columns=['class']), 'class').items())\n",
    "class_counts"
   ]
  },
  {
   "cell_type": "markdown",
   "metadata": {},
   "source": [
    "### II.V Data resampling"
   ]
  },
  {
   "cell_type": "markdown",
   "metadata": {},
   "source": [
    "To completely eleminate the remaining class imbalance, data resampling will be applied. <br/>\n",
    "The interest class, `gun_shot`, now contains exactly 700 instances which is the minimum class count among all other classes. For this reason, data **under-sampling** is applied. Under sampling will help avoid introducing fake instances to the interest class specially after applying augmentation to the same class. This will ensure the reliability of the available data."
   ]
  },
  {
   "cell_type": "code",
   "execution_count": null,
   "metadata": {},
   "outputs": [],
   "source": [
    "from imblearn.under_sampling import RandomUnderSampler\n",
    "\n",
    "rus = RandomUnderSampler(random_state=0)\n",
    "X_resampled, y_resampled = rus.fit_resample(X_train, y_train)"
   ]
  },
  {
   "cell_type": "code",
   "execution_count": null,
   "metadata": {},
   "outputs": [
    {
     "data": {
      "text/plain": [
       "7000"
      ]
     },
     "metadata": {},
     "output_type": "display_data"
    }
   ],
   "source": [
    "len(X_resampled)"
   ]
  },
  {
   "cell_type": "markdown",
   "metadata": {},
   "source": [
    "The training set is now equally split into 10 classes"
   ]
  },
  {
   "cell_type": "code",
   "execution_count": null,
   "metadata": {},
   "outputs": [
    {
     "data": {
      "image/png": "[encoded data removed]",
      "text/plain": [
       "<Figure size 640x480 with 1 Axes>"
      ]
     },
     "metadata": {},
     "output_type": "display_data"
    },
    {
     "data": {
      "text/plain": [
       "{'air_conditioner': 700,\n",
       " 'car_horn': 700,\n",
       " 'children_playing': 700,\n",
       " 'dog_bark': 700,\n",
       " 'drilling': 700,\n",
       " 'engine_idling': 700,\n",
       " 'gun_shot': 700,\n",
       " 'jackhammer': 700,\n",
       " 'siren': 700,\n",
       " 'street_music': 700}"
      ]
     },
     "metadata": {},
     "output_type": "display_data"
    }
   ],
   "source": [
    "get_class_dist(pd.DataFrame(y_resampled, columns=['class']), 'class', True)"
   ]
  },
  {
   "cell_type": "markdown",
   "metadata": {},
   "source": [
    "---"
   ]
  },
  {
   "cell_type": "markdown",
   "metadata": {},
   "source": [
    "Here, the 3 data sets are converted again to wav form and saved to disk to be loaded again as sound files for future use."
   ]
  },
  {
   "cell_type": "code",
   "execution_count": null,
   "metadata": {},
   "outputs": [],
   "source": [
    "import soundfile as sf\n",
    "\n",
    "def export_x_and_y_helper(x, y, dir_path):\n",
    "    for idx in range(len(x)):\n",
    "        arr = x[idx]\n",
    "        label = y[idx]\n",
    "        # name of the file is formatted as follows: {index}-{classID}\n",
    "        filename = '{}/{}-{}.wav'.format(dir_path, idx, label_map[label])\n",
    "        \n",
    "        sf.write(filename, arr.astype(float), SAMPLE_RATE)\n",
    "        \n",
    "def export_x_and_ys():\n",
    "    path = './processed_data'\n",
    "    if not os.path.exists(path):\n",
    "        os.mkdir(path)\n",
    "        os.mkdir('{}/train'.format(path))\n",
    "        os.mkdir('{}/val'.format(path))\n",
    "        os.mkdir('{}/test'.format(path))\n",
    "        \n",
    "    print('Exporting training set...', end='')\n",
    "    export_x_and_y_helper(X_resampled[0], y_resampled, '{}/train'.format(path))\n",
    "    print('done!')\n",
    "    \n",
    "    print('Exporting validation set...', end='')\n",
    "    export_x_and_y_helper(X_val, y_val, '{}/val'.format(path))\n",
    "    print('done!')\n",
    "    \n",
    "    print('Exporting test set...', end='')\n",
    "    export_x_and_y_helper(X_test, y_test, '{}/test'.format(path))\n",
    "    print('done!')"
   ]
  },
  {
   "cell_type": "code",
   "execution_count": null,
   "metadata": {},
   "outputs": [
    {
     "name": "stdout",
     "output_type": "stream",
     "text": [
      "Exporting training set...done!\n",
      "Exporting validation set...done!\n",
      "Exporting test set...done!\n"
     ]
    }
   ],
   "source": [
    "export_x_and_ys()"
   ]
  }
 ],
 "metadata": {
  "language_info": {
   "name": "python"
  },
  "orig_nbformat": 4
 },
 "nbformat": 4,
 "nbformat_minor": 2
}
